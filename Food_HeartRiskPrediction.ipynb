{
  "nbformat": 4,
  "nbformat_minor": 0,
  "metadata": {
    "colab": {
      "provenance": []
    },
    "kernelspec": {
      "name": "python3",
      "display_name": "Python 3"
    },
    "language_info": {
      "name": "python"
    }
  },
  "cells": [
    {
      "cell_type": "code",
      "source": [
        "# @title Importing my gemini API key\n",
        "api_key_file = '/content/key.txt'\n",
        "with open(api_key_file, 'r') as file:\n",
        "    api_key = file.read().strip()"
      ],
      "metadata": {
        "id": "4ePGXElnXqth"
      },
      "execution_count": null,
      "outputs": []
    },
    {
      "cell_type": "code",
      "source": [
        "# @title Necessary Imports\n",
        "import requests\n",
        "from google import genai\n",
        "from pydantic import BaseModel\n",
        "from PIL import Image\n",
        "import json"
      ],
      "metadata": {
        "id": "FBjxwdLHXx3o"
      },
      "execution_count": null,
      "outputs": []
    },
    {
      "cell_type": "code",
      "source": [
        "# @title Defining the food content parameters that we'll need for the next step\n",
        "food_content = {\"Calories\",\"Saturated Fat\",\"Trans Fat\",\"Naturally occurring Sugar\",\"Refined sugar\",\"Salt\"}"
      ],
      "metadata": {
        "id": "iwAm4WbfaDKg"
      },
      "execution_count": null,
      "outputs": []
    },
    {
      "cell_type": "code",
      "source": [
        "# @title JSON structure in which the model should return the output.\n",
        "class IngredientQuantity(BaseModel):\n",
        "    ingredient: str\n",
        "    quantity: float\n",
        "    unit: str\n",
        "    logic_used_to_calculate_quantity: str"
      ],
      "metadata": {
        "id": "g83x81ZNbkdo"
      },
      "execution_count": null,
      "outputs": []
    },
    {
      "cell_type": "code",
      "source": [
        "# @title Calling the api model with inputs: food image.\n",
        "def what_is_this_food(food_image):\n",
        "\n",
        "    client = genai.Client(api_key=api_key)\n",
        "\n",
        "    response = client.models.generate_content(\n",
        "        model=\"gemini-2.0-flash\",\n",
        "        contents=[food_image, \"What is this food item called? Just give me the food item name and nothing else.\"],\n",
        "    )\n",
        "\n",
        "    return response.text"
      ],
      "metadata": {
        "id": "xHwPbNhsb7xu"
      },
      "execution_count": null,
      "outputs": []
    },
    {
      "cell_type": "code",
      "execution_count": null,
      "metadata": {
        "id": "lR9axygBRsB7"
      },
      "outputs": [],
      "source": [
        "# @title Calling the api model with inputs: food item name. Uses ingridients whose quantity is needed and output json format internally.\n",
        "def get_food_analysis(food_description):\n",
        "\n",
        "    prompt = f\"Analyze the food item: '{food_description}' and give me the amount of every ingredient in list: {food_content} to create 100 grams of '{food_description}'.\"\n",
        "\n",
        "    client = genai.Client(api_key=api_key)\n",
        "\n",
        "    response = client.models.generate_content(\n",
        "        model=\"gemini-2.0-flash\",\n",
        "        contents=prompt,\n",
        "        config={\n",
        "            \"response_mime_type\": \"application/json\",\n",
        "            \"response_schema\": list[IngredientQuantity]\n",
        "        }\n",
        "    )\n",
        "\n",
        "    # Storing the content generated in a JSON format, which we can use later on in the code, to get the content of every ingredient.\n",
        "    food_data = json.loads(response.text)\n",
        "    return food_data"
      ]
    },
    {
      "cell_type": "code",
      "source": [
        "# @title Sample usage: Prints the food's name.\n",
        "image = Image.open(\"/content/food_image.jpg\")\n",
        "food_description = what_is_this_food(image)"
      ],
      "metadata": {
        "id": "OtzYEnrUrZX3"
      },
      "execution_count": null,
      "outputs": []
    },
    {
      "cell_type": "code",
      "source": [
        "# @title Sample usage: Prints the food item name.\n",
        "print(food_description)\n",
        "food_analysis_data = get_food_analysis(food_description)"
      ],
      "metadata": {
        "colab": {
          "base_uri": "https://localhost:8080/"
        },
        "id": "tAHhHnoOYVEP",
        "outputId": "f6d1c549-017d-42b5-e951-5a6c9f20914f"
      },
      "execution_count": null,
      "outputs": [
        {
          "output_type": "stream",
          "name": "stdout",
          "text": [
            "Chole Bhature\n",
            "\n"
          ]
        }
      ]
    },
    {
      "cell_type": "code",
      "source": [
        "# @title Sample usage: Prints the content of ingridients in 100gm quantity of the stated food item.\n",
        "print(food_analysis_data)"
      ],
      "metadata": {
        "id": "cNEG6KnaLh34",
        "colab": {
          "base_uri": "https://localhost:8080/"
        },
        "outputId": "f98e55cb-d1f0-43de-ab8f-c33a22374517"
      },
      "execution_count": null,
      "outputs": [
        {
          "output_type": "stream",
          "name": "stdout",
          "text": [
            "[{'ingredient': 'Naturally occurring Sugar', 'quantity': 1.5, 'unit': 'g', 'logic_used_to_calculate_quantity': 'Estimated based on the carbohydrate content of chickpeas, flour, and other vegetables used in the dish. Assumed a percentage of these carbohydrates are naturally occurring sugars.'}, {'ingredient': 'Salt', 'quantity': 1.2, 'unit': 'g', 'logic_used_to_calculate_quantity': 'Estimated based on common recipes for Chole Bhature, accounting for salt added during the preparation of both the chole (chickpea curry) and bhature (fried bread).'}, {'ingredient': 'Trans Fat', 'quantity': 0.3, 'unit': 'g', 'logic_used_to_calculate_quantity': 'Trans fat can form during the deep-frying process of the bhature. The quantity is estimated based on typical trans fat levels in fried foods.'}, {'ingredient': 'Saturated Fat', 'quantity': 6.0, 'unit': 'g', 'logic_used_to_calculate_quantity': 'Estimated based on the use of oil (often ghee or vegetable oil) in the preparation of both the chole and bhature. Saturated fat content varies depending on the type of oil used.'}, {'ingredient': 'Calories', 'quantity': 350.0, 'unit': 'kcal', 'logic_used_to_calculate_quantity': 'Estimated based on the typical caloric content of chickpeas, flour, oil, and other ingredients used in Chole Bhature. This is a high-calorie dish due to the frying process and the use of oil.'}, {'ingredient': 'Refined sugar', 'quantity': 0.5, 'unit': 'g', 'logic_used_to_calculate_quantity': 'Small amount of sugar is sometimes added to the chole for taste balance. The estimate reflects a moderate use of refined sugar in the recipe.'}]\n"
          ]
        }
      ]
    },
    {
      "cell_type": "code",
      "source": [
        "for index in range(len(food_analysis_data)):\n",
        "    print(f\"{food_analysis_data[index]['ingredient']}: {food_analysis_data[index]['quantity']} {food_analysis_data[index]['unit']}\\n\")"
      ],
      "metadata": {
        "id": "A4v539OTil4C",
        "colab": {
          "base_uri": "https://localhost:8080/"
        },
        "outputId": "e7069ab4-8d0b-41b5-d718-47e8b32cd56f"
      },
      "execution_count": null,
      "outputs": [
        {
          "output_type": "stream",
          "name": "stdout",
          "text": [
            "Naturally occurring Sugar: 1.5 g\n",
            "\n",
            "Salt: 1.2 g\n",
            "\n",
            "Trans Fat: 0.3 g\n",
            "\n",
            "Saturated Fat: 6.0 g\n",
            "\n",
            "Calories: 350.0 kcal\n",
            "\n",
            "Refined sugar: 0.5 g\n",
            "\n"
          ]
        }
      ]
    },
    {
      "cell_type": "code",
      "source": [
        "# @title Define Risk Thresholds\n",
        "# food_content = {\"Calories\",\"Saturated Fat\",\"Trans Fat\",\"Naturally occurring Sugar\",\"Refined sugar\",\"Salt\"}\n",
        "risk_thresholds = {\n",
        "    \"Calories\": [\n",
        "        (150, 0.00),   # Low risk\n",
        "        (300, 0.05),   # Moderate risk\n",
        "        (450, 0.15),   # High risk\n",
        "        (float('inf'), 0.25)  # Very high risk\n",
        "    ],\n",
        "    \"Saturated Fat\": [\n",
        "        (3, 0.00),     # Low\n",
        "        (6, 0.10),     # Moderate\n",
        "        (9, 0.25),     # High\n",
        "        (float('inf'), 0.40)  # Very High\n",
        "    ],\n",
        "    \"Trans Fat\": [\n",
        "        (0.1, 0.00),   # Low\n",
        "        (0.5, 0.20),   # Moderate\n",
        "        (1.0, 0.35),   # High\n",
        "        (float('inf'), 0.60)  # Very High\n",
        "    ],\n",
        "    \"Refined sugar\": [\n",
        "        (5, 0.00),     # Low\n",
        "        (12, 0.10),    # Moderate\n",
        "        (20, 0.30),    # High\n",
        "        (float('inf'), 0.50)  # Very High\n",
        "    ],\n",
        "    \"Naturally occurring Sugar\": [\n",
        "        (5, 0.00),     # Low\n",
        "        (15, 0.05),    # Moderate\n",
        "        (25, 0.10),    # High\n",
        "        (float('inf'), 0.15)  # Very High\n",
        "    ],\n",
        "    \"Salt\": [\n",
        "        (0.3, 0.00),   # Low\n",
        "        (0.6, 0.10),   # Moderate\n",
        "        (1.2, 0.25),   # High\n",
        "        (float('inf'), 0.40)  # Very High\n",
        "    ]\n",
        "}"
      ],
      "metadata": {
        "id": "NIsSJ4pCW5Aa"
      },
      "execution_count": null,
      "outputs": []
    },
    {
      "cell_type": "code",
      "source": [
        "# @title Function to Get Component Risk\n",
        "def get_component_risk(component_name, quantity, thresholds):\n",
        "    component_thresholds = thresholds.get(component_name)\n",
        "    if not component_thresholds:\n",
        "        return 0.0  # Return 0 risk if component not in thresholds\n",
        "\n",
        "    risk = 0.0\n",
        "    # Assuming thresholds are sorted in ascending order\n",
        "    for threshold, risk_percentage in component_thresholds:\n",
        "        if quantity >= threshold:\n",
        "            risk = risk_percentage\n",
        "        else:\n",
        "            break # Stop if quantity is not above the current threshold\n",
        "\n",
        "    return risk"
      ],
      "metadata": {
        "id": "uZavT4EKW6oZ"
      },
      "execution_count": null,
      "outputs": []
    },
    {
      "cell_type": "code",
      "source": [
        "# @title Calculate Combined Heart Risk\n",
        "combined_risk_probability = 1.0\n",
        "for item in food_analysis_data:\n",
        "    ingredient = item['ingredient']\n",
        "    quantity = item['quantity']\n",
        "\n",
        "    # Only consider the components we have defined thresholds for\n",
        "    if ingredient in risk_thresholds:\n",
        "        component_risk = get_component_risk(ingredient, quantity, risk_thresholds)\n",
        "        print(f\"Quantity of {ingredient}: {quantity}\\nRisk of {ingredient}: {component_risk}\\n\\n\")\n",
        "        combined_risk_probability *= (1 - component_risk)\n",
        "\n",
        "total_heart_risk = 1 - combined_risk_probability\n",
        "\n",
        "print(f\"\\nTotal estimated heart risk from consuming 100gms/100ml {food_description} is {total_heart_risk:.2%}\")"
      ],
      "metadata": {
        "colab": {
          "base_uri": "https://localhost:8080/"
        },
        "id": "M9G3xoBpLKOP",
        "outputId": "51f563ab-7f5e-4e1e-a3a2-68917a9ca8bd"
      },
      "execution_count": null,
      "outputs": [
        {
          "output_type": "stream",
          "name": "stdout",
          "text": [
            "Quantity of Naturally occurring Sugar: 1.5\n",
            "Risk of Naturally occurring Sugar: 0.0\n",
            "\n",
            "\n",
            "Quantity of Salt: 1.2\n",
            "Risk of Salt: 0.25\n",
            "\n",
            "\n",
            "Quantity of Trans Fat: 0.3\n",
            "Risk of Trans Fat: 0.0\n",
            "\n",
            "\n",
            "Quantity of Saturated Fat: 6.0\n",
            "Risk of Saturated Fat: 0.1\n",
            "\n",
            "\n",
            "Quantity of Calories: 350.0\n",
            "Risk of Calories: 0.05\n",
            "\n",
            "\n",
            "Quantity of Refined sugar: 0.5\n",
            "Risk of Refined sugar: 0.0\n",
            "\n",
            "\n",
            "\n",
            "Total estimated heart risk from consuming 100gms/100ml Chole Bhature\n",
            " is 35.88%\n"
          ]
        }
      ]
    },
    {
      "cell_type": "code",
      "source": [
        "import gradio as gr\n",
        "\n",
        "# Main function\n",
        "def analyze_food_image(image_path):\n",
        "    if image_path is None:\n",
        "        return \"Please upload an image.\", \"\", \"\"\n",
        "\n",
        "    try:\n",
        "        image = Image.open(image_path)\n",
        "        food_description = what_is_this_food(image)\n",
        "        food_analysis_data = get_food_analysis(food_description)\n",
        "\n",
        "        combined_risk_probability = 1.0\n",
        "        analysis_text = \"\"\n",
        "        for item in food_analysis_data:\n",
        "            ingredient = item['ingredient']\n",
        "            quantity = item['quantity']\n",
        "            unit = item['unit']\n",
        "            analysis_text += f\"{ingredient}: {quantity} {unit}\\n\"\n",
        "\n",
        "            if ingredient in risk_thresholds:\n",
        "                component_risk = get_component_risk(ingredient, quantity, risk_thresholds)\n",
        "                combined_risk_probability *= (1 - component_risk)\n",
        "\n",
        "        total_heart_risk = 1 - combined_risk_probability\n",
        "        risk_text = f\"Estimated Heart Risk from consuming 100g/ml of {food_description}: {total_heart_risk:.2%}\"\n",
        "\n",
        "        return food_description, analysis_text, risk_text\n",
        "\n",
        "    except Exception as e:\n",
        "        return f\"An error occurred: {e}\", \"\", \"\"\n",
        "\n",
        "# Gradio app with custom CSS and light theme layout\n",
        "with gr.Blocks() as demo:\n",
        "    gr.HTML(\"\"\"\n",
        "        <style>\n",
        "            body {\n",
        "                background: #f3f4f6;\n",
        "                font-family: 'Segoe UI', sans-serif;\n",
        "                color: #333;\n",
        "                padding: 20px;\n",
        "            }\n",
        "\n",
        "            h1 {\n",
        "                font-size: 2.5em;\n",
        "                color: #4CAF50;\n",
        "                margin-bottom: 20px;\n",
        "            }\n",
        "\n",
        "            p {\n",
        "                font-size: 1.2em;\n",
        "                color: #555;\n",
        "                margin-bottom: 30px;\n",
        "            }\n",
        "\n",
        "            .gr-box {\n",
        "                border-radius: 10px;\n",
        "                background-color: #ffffff;\n",
        "                padding: 20px;\n",
        "                box-shadow: 0px 4px 15px rgba(0,0,0,0.1);\n",
        "                margin-bottom: 15px;\n",
        "            }\n",
        "\n",
        "            button {\n",
        "                background-color: #4CAF50;\n",
        "                color: white;\n",
        "                font-size: 1.1em;\n",
        "                padding: 12px 24px;\n",
        "                border-radius: 8px;\n",
        "                margin-top: 10px;\n",
        "                width: 100%;\n",
        "            }\n",
        "\n",
        "            button:hover {\n",
        "                background-color: #45a049;\n",
        "            }\n",
        "\n",
        "            .gr-row, .gr-column {\n",
        "                margin-top: 20px;\n",
        "            }\n",
        "\n",
        "            .gr-image {\n",
        "                border-radius: 10px;\n",
        "                padding: 10px;\n",
        "                background: #ffffff;\n",
        "                box-shadow: 0px 4px 10px rgba(0, 0, 0, 0.1);\n",
        "            }\n",
        "        </style>\n",
        "\n",
        "        <div style=\"text-align:center;\">\n",
        "            <h1>🥗 Food Health Analyzer</h1>\n",
        "            <p>Upload your food image and instantly get a health analysis!</p>\n",
        "        </div>\n",
        "    \"\"\")\n",
        "\n",
        "    with gr.Row():\n",
        "        image_input = gr.Image(type=\"filepath\", label=\"📷 Upload Food Image\", elem_classes=[\"gr-box\"])\n",
        "        with gr.Column():\n",
        "            food_description_output = gr.Textbox(label=\"🍔 Identified Food Item\", lines=1, elem_classes=[\"gr-box\"])\n",
        "            food_analysis_output = gr.Textbox(label=\"🔍 Food Analysis (per 100g/ml)\", lines=4, elem_classes=[\"gr-box\"])\n",
        "            risk_output = gr.Textbox(label=\"❤️ Estimated Heart Risk\", lines=2, elem_classes=[\"gr-box\"])\n",
        "\n",
        "    analyze_button = gr.Button(\"🚀 Analyze Image\")\n",
        "    analyze_button.click(\n",
        "        analyze_food_image,\n",
        "        inputs=image_input,\n",
        "        outputs=[food_description_output, food_analysis_output, risk_output]\n",
        "    )\n",
        "\n",
        "demo.launch()\n"
      ],
      "metadata": {
        "id": "Ad9dRdzsfN79",
        "colab": {
          "base_uri": "https://localhost:8080/",
          "height": 646
        },
        "outputId": "afefd684-1868-460d-9c4d-8f5dff481cce"
      },
      "execution_count": null,
      "outputs": [
        {
          "output_type": "stream",
          "name": "stdout",
          "text": [
            "It looks like you are running Gradio on a hosted a Jupyter notebook. For the Gradio app to work, sharing must be enabled. Automatically setting `share=True` (you can turn this off by setting `share=False` in `launch()` explicitly).\n",
            "\n",
            "Colab notebook detected. To show errors in colab notebook, set debug=True in launch()\n",
            "* Running on public URL: https://da9814a9303b963510.gradio.live\n",
            "\n",
            "This share link expires in 1 week. For free permanent hosting and GPU upgrades, run `gradio deploy` from the terminal in the working directory to deploy to Hugging Face Spaces (https://huggingface.co/spaces)\n"
          ]
        },
        {
          "output_type": "display_data",
          "data": {
            "text/plain": [
              "<IPython.core.display.HTML object>"
            ],
            "text/html": [
              "<div><iframe src=\"https://da9814a9303b963510.gradio.live\" width=\"100%\" height=\"500\" allow=\"autoplay; camera; microphone; clipboard-read; clipboard-write;\" frameborder=\"0\" allowfullscreen></iframe></div>"
            ]
          },
          "metadata": {}
        },
        {
          "output_type": "execute_result",
          "data": {
            "text/plain": []
          },
          "metadata": {},
          "execution_count": 14
        }
      ]
    },
    {
      "cell_type": "code",
      "source": [],
      "metadata": {
        "id": "74h4JxuCn6Rk"
      },
      "execution_count": null,
      "outputs": []
    }
  ]
}